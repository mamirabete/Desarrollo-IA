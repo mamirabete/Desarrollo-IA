{
 "cells": [
  {
   "cell_type": "code",
   "execution_count": 5,
   "id": "89eaf006-5341-40e3-bb8e-8a87535f598a",
   "metadata": {},
   "outputs": [],
   "source": [
    "# Puzle Lineal con búsqueda en profundidad recursiva\n",
    "from arbol import Nodo\n",
    "\n",
    "def buscar_solucion_DFS_Rec(nodo_inicial, solucion, visitados):\n",
    "  visitados.append(nodo_inicial.get_datos())\n",
    "  if nodo_inicial.get_datos() == solucion:\n",
    "    return nodo_inicial\n",
    "  else:\n",
    "    # expandir nodos sucesores (hijos)\n",
    "    dato_nodo = nodo_inicial.get_datos()\n",
    "    hijo=[dato_nodo[1], dato_nodo[0], dato_nodo[2], dato_nodo[3]]\n",
    "    hijo_izquierdo = Nodo(hijo)\n",
    "    hijo=[dato_nodo[0], dato_nodo[2], dato_nodo[1], dato_nodo[3]]\n",
    "    hijo_central = Nodo(hijo)\n",
    "    hijo=[dato_nodo[0], dato_nodo[1], dato_nodo[3], dato_nodo[2]]\n",
    "    hijo_derecho = Nodo(hijo)\n",
    "    nodo_inicial.set_hijos([hijo_izquierdo, hijo_central,hijo_derecho])\n",
    "\n",
    "    for nodo_hijo in nodo_inicial.get_hijos():\n",
    "        if not nodo_hijo.get_datos() in visitados:\n",
    "            # llamada recursiva\n",
    "            sol = buscar_solucion_DFS_Rec(nodo_hijo, solucion, visitados)\n",
    "            if sol != None:\n",
    "                return sol\n",
    "    return None"
   ]
  },
  {
   "cell_type": "code",
   "execution_count": 6,
   "id": "7bddce39-80f1-4ec4-8715-62d801f7e83e",
   "metadata": {},
   "outputs": [],
   "source": [
    "estado_inicial=[4,2,3,1]\n",
    "solucion=[1,2,3,4]\n",
    "nodo_solucion = None\n",
    "visitados=[]\n",
    "nodo_inicial = Nodo(estado_inicial)\n",
    "nodo = buscar_solucion_DFS_Rec(nodo_inicial, solucion, visitados)"
   ]
  },
  {
   "cell_type": "code",
   "execution_count": 7,
   "id": "dd449851-602e-4782-b32e-94ade85d51b8",
   "metadata": {},
   "outputs": [
    {
     "name": "stdout",
     "output_type": "stream",
     "text": [
      "[[4, 2, 3, 1], [2, 4, 3, 1], [2, 3, 4, 1], [3, 2, 4, 1], [3, 4, 2, 1], [4, 3, 2, 1], [4, 3, 1, 2], [3, 4, 1, 2], [3, 1, 4, 2], [1, 3, 4, 2], [1, 4, 3, 2], [4, 1, 3, 2], [4, 1, 2, 3], [1, 4, 2, 3], [1, 2, 4, 3], [2, 1, 4, 3], [2, 1, 3, 4], [1, 2, 3, 4]]\n"
     ]
    }
   ],
   "source": [
    "# mostrar resultado\n",
    "resultado=[]\n",
    "while nodo.get_padre() != None:\n",
    "  resultado.append(nodo.get_datos())\n",
    "  nodo = nodo.get_padre()\n",
    "resultado.append(estado_inicial)\n",
    "resultado.reverse()\n",
    "print(resultado)"
   ]
  }
 ],
 "metadata": {
  "kernelspec": {
   "display_name": "Python 3 (ipykernel)",
   "language": "python",
   "name": "python3"
  },
  "language_info": {
   "codemirror_mode": {
    "name": "ipython",
    "version": 3
   },
   "file_extension": ".py",
   "mimetype": "text/x-python",
   "name": "python",
   "nbconvert_exporter": "python",
   "pygments_lexer": "ipython3",
   "version": "3.10.12"
  }
 },
 "nbformat": 4,
 "nbformat_minor": 5
}
