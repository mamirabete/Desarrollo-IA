{
 "cells": [
  {
   "cell_type": "markdown",
   "id": "d276635b-3777-4294-8924-34ed2719d9e2",
   "metadata": {},
   "source": [
    "# Problema del Puzzle Lineal \n",
    "## con busqueda en amplitud (BFS)\n",
    "\n",
    "La ejecución del programa nos mostrará el siguiente resultado:\n",
    "\n",
    "[[4, 2, 3, 1], [2, 4, 3, 1], [2, 3, 4, 1], [2, 3, 1, 4], [2, 1, 3, 4], [1, 2, 3, 4]]\n",
    "\n",
    "Que es la secuencia de movimientos que realiza el programa para resolver el\n",
    "puzle.\n"
   ]
  },
  {
   "cell_type": "code",
   "execution_count": 1,
   "id": "d1558c1f-551b-41c0-9d72-4a781973ddd8",
   "metadata": {},
   "outputs": [],
   "source": [
    "# Código del programa que resuelve el problema\n",
    "from arbol import Nodo\n",
    "\n",
    "# Función encargada de implementar la búsqueda en amplitud. \n",
    "def buscar_solucion_BFS(estado_inicial, solucion):\n",
    "    solucionado=False\n",
    "    nodos_visitados=[]\n",
    "    nodos_frontera=[]\n",
    "    nodoInicial = Nodo(estado_inicial)\n",
    "    nodos_frontera.append(nodoInicial)\n",
    "    while (not solucionado) and len(nodos_frontera)!=0:\n",
    "        nodo=nodos_frontera.pop(0)\n",
    "        \n",
    "        # extraer nodo y añadirlo a visitados\n",
    "        nodos_visitados.append(nodo)\n",
    "        if nodo.get_datos() == solucion:\n",
    "            # solucion encontrada\n",
    "            solucionado=True\n",
    "            return nodo\n",
    "        else:\n",
    "            # expandir nodos hijo\n",
    "            dato_nodo = nodo.get_datos()\n",
    "\n",
    "            # operador izquierdo\n",
    "            hijo=[dato_nodo[1], dato_nodo[0], dato_nodo[2], dato_nodo[3]]\n",
    "            hijo_izquierdo = Nodo(hijo)\n",
    "            if not hijo_izquierdo.en_lista(nodos_visitados) and not hijo_izquierdo.en_lista(nodos_frontera):\n",
    "                nodos_frontera.append(hijo_izquierdo)\n",
    "            \n",
    "            # operador central\n",
    "            hijo=[dato_nodo[0], dato_nodo[2], dato_nodo[1], dato_nodo[3]]\n",
    "            hijo_central = Nodo(hijo)\n",
    "            if not hijo_central.en_lista(nodos_visitados) and not hijo_central.en_lista(nodos_frontera):\n",
    "                nodos_frontera.append(hijo_central)\n",
    "            \n",
    "            # operador derecho\n",
    "            hijo=[dato_nodo[0], dato_nodo[1], dato_nodo[3], dato_nodo[2]]\n",
    "            hijo_derecho = Nodo(hijo)\n",
    "            if not hijo_derecho.en_lista(nodos_visitados) and not hijo_derecho.en_lista(nodos_frontera):\n",
    "                nodos_frontera.append(hijo_derecho)\n",
    "            \n",
    "            nodo.set_hijos([hijo_izquierdo, hijo_central, hijo_derecho])\n"
   ]
  },
  {
   "cell_type": "markdown",
   "id": "ed5eb21b-1081-422d-bf62-22b2f409c05a",
   "metadata": {},
   "source": [
    "La función encargada de implementar la búsqueda en amplitud se llama buscar_solucion_BFS() que es invocada con dos parámetros. El primero es el estado inicial, que en nuestro ejemplo es [4,2,3,1]. El segundo parámetro es el estado objetivo, es decir, la solución: [1,2,3,4]. La función retorna con el nodo solución si lo ha encontrado. Para conocer el camino concreto desde el nodo raíz al nodo objetivo, solo hay que recorrer el camino inverso desde el nodo objetivo. Como cada nodo tiene asignado un padre, solo tenemos que usar la función get_padre() para recorrer el camino.\n",
    "\n",
    "Dentro de la función buscar_solucion_BFS() lo primero que se hace es inicializar las listas de nodos frontera y nodos visitados. También se crea el nodo inicial con el valor del primer parámetro de la función y se añade a la lista de nodos frontera.\n",
    "\n",
    "La siguiente porción del código es un bucle y se repite mientras haya elementos en la lista de nodos frontera o no se haya alcanzado una solución. El primer paso es extraer el primer nodo pendiente de la cola de nodos frontera e insertarlo en la lista de elementos visitados. Si el nodo es una solución, salimos del bucle devolviendo el nodo. Si no, expandimos el nodo aplicando los operadores I, C y D, y generamos sus hijos. Si los hijos no están en la lista de nodos visitados, los añadimos a la cola de\n",
    "nodos frontera."
   ]
  },
  {
   "cell_type": "code",
   "execution_count": 2,
   "id": "294e3f79-0cf5-4211-a0a5-9807d870017b",
   "metadata": {},
   "outputs": [],
   "source": [
    "# Parámetros iniciales\n",
    "estado_inicial=[4,2,3,1]\n",
    "solucion=[1,2,3,4]\n",
    "\n",
    "# La función retorna el nodo solución si lo ha encontrado.\n",
    "nodo_solucion = buscar_solucion_BFS(estado_inicial, solucion)"
   ]
  },
  {
   "cell_type": "code",
   "execution_count": 3,
   "id": "c7435f66-484d-468e-9ec1-1f1add605a3e",
   "metadata": {},
   "outputs": [
    {
     "name": "stdout",
     "output_type": "stream",
     "text": [
      "[[4, 2, 3, 1], [2, 4, 3, 1], [2, 3, 4, 1], [2, 3, 1, 4], [2, 1, 3, 4], [1, 2, 3, 4]]\n"
     ]
    }
   ],
   "source": [
    " # mostrar resultado\n",
    "resultado=[]\n",
    "nodo=nodo_solucion\n",
    "\n",
    "while nodo.get_padre() != None:\n",
    "  resultado.append(nodo.get_datos())\n",
    "  nodo = nodo.get_padre()\n",
    "resultado.append(estado_inicial)\n",
    "resultado.reverse()\n",
    "print(resultado)"
   ]
  },
  {
   "attachments": {
    "9b528e58-ca24-4701-8579-135b8705842d.png": {
     "image/png": "[encoded data removed]"
    }
   },
   "cell_type": "markdown",
   "id": "98901933-a477-4765-b44e-5ba622744489",
   "metadata": {},
   "source": [
    "En el caso del puzle lineal, podríamos plantearnos que una solución será **óptima** si no es posible encontrar otra diferente que resuelva el puzle en menor número de movimientos. Si nos fijamos en el árbol de la figura, observamos que por cada movimiento bajamos un nivel en el árbol. Así pues, a cuanta menos profundidad se encuentre la solución, menos movimientos habrán sido necesarios para llegar a ella. Como la búsqueda en amplitud recorre el árbol por niveles, queda claro que, en este caso, la solución que encontremos será óptima.\n",
    "\n",
    "![image.png](attachment:9b528e58-ca24-4701-8579-135b8705842d.png)"
   ]
  }
 ],
 "metadata": {
  "kernelspec": {
   "display_name": "Python 3 (ipykernel)",
   "language": "python",
   "name": "python3"
  },
  "language_info": {
   "codemirror_mode": {
    "name": "ipython",
    "version": 3
   },
   "file_extension": ".py",
   "mimetype": "text/x-python",
   "name": "python",
   "nbconvert_exporter": "python",
   "pygments_lexer": "ipython3",
   "version": "3.10.12"
  }
 },
 "nbformat": 4,
 "nbformat_minor": 5
}
