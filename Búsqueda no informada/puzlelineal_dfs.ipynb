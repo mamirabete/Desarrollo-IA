{
 "cells": [
  {
   "cell_type": "code",
   "execution_count": 1,
   "id": "e0a47d56-118c-400a-9212-b5b99c100883",
   "metadata": {},
   "outputs": [],
   "source": [
    "# Puzle Lineal con búsqueda en profundidad\n",
    "from arbol import Nodo\n",
    "\n",
    "def buscar_solucion_DFS(estado_inicial, solucion):\n",
    "  solucionado=False\n",
    "  nodos_visitados=[]\n",
    "  nodos_frontera=[]\n",
    "  nodoInicial = Nodo(estado_inicial)\n",
    "  nodos_frontera.append(nodoInicial)\n",
    "  while (not solucionado) and len(nodos_frontera)!=0:\n",
    "    nodo=nodos_frontera.pop()\n",
    "    # extraer nodo y añadirlo a visitados\n",
    "    nodos_visitados.append(nodo)\n",
    "    if nodo.get_datos() == solucion:\n",
    "      # solución encontrada\n",
    "      solucionado=True\n",
    "      return nodo\n",
    "    else:\n",
    "      # expandir nodos hijo\n",
    "      dato_nodo = nodo.get_datos()\n",
    "\n",
    "      # operador izquierdo\n",
    "      hijo=[dato_nodo[1], dato_nodo[0], dato_nodo[2], dato_nodo[3]]\n",
    "      hijo_izquierdo = Nodo(hijo)\n",
    "      if not hijo_izquierdo.en_lista(nodos_visitados) and not hijo_izquierdo.en_lista(nodos_frontera):\n",
    "        nodos_frontera.append(hijo_izquierdo)\n",
    "      # operador central\n",
    "      hijo=[dato_nodo[0], dato_nodo[2], dato_nodo[1], dato_nodo[3]]\n",
    "      hijo_central = Nodo(hijo)\n",
    "      if not hijo_central.en_lista(nodos_visitados) and not hijo_central.en_lista(nodos_frontera):\n",
    "        nodos_frontera.append(hijo_central)\n",
    "      # operador derecho\n",
    "      hijo=[dato_nodo[0], dato_nodo[1], dato_nodo[3], dato_nodo[2]]\n",
    "      hijo_derecho = Nodo(hijo)\n",
    "      if not hijo_derecho.en_lista(nodos_visitados) and not hijo_derecho.en_lista(nodos_frontera):\n",
    "        nodos_frontera.append(hijo_derecho)\n",
    "\n",
    "      nodo.set_hijos([hijo_izquierdo, hijo_central, hijo_derecho])"
   ]
  },
  {
   "cell_type": "code",
   "execution_count": 2,
   "id": "c15573c5-0edb-42f5-86f3-808960a98d38",
   "metadata": {},
   "outputs": [],
   "source": [
    "estado_inicial=[4,2,3,1]\n",
    "solucion=[1,2,3,4]\n",
    "nodo_solucion = buscar_solucion_DFS(estado_inicial, solucion)"
   ]
  },
  {
   "cell_type": "code",
   "execution_count": 3,
   "id": "db225b31-d7ef-4cc8-916c-0416b4726ac6",
   "metadata": {},
   "outputs": [
    {
     "name": "stdout",
     "output_type": "stream",
     "text": [
      "[[4, 2, 3, 1], [4, 2, 1, 3], [4, 1, 2, 3], [4, 1, 3, 2], [4, 3, 1, 2], [3, 4, 1, 2], [3, 4, 2, 1], [3, 2, 4, 1], [3, 2, 1, 4], [3, 1, 2, 4], [1, 3, 2, 4], [1, 2, 3, 4]]\n"
     ]
    }
   ],
   "source": [
    "# mostrar resultado\n",
    "resultado=[]\n",
    "nodo=nodo_solucion\n",
    "while nodo.get_padre() != None:\n",
    "  resultado.append(nodo.get_datos())\n",
    "  nodo = nodo.get_padre()\n",
    "resultado.append(estado_inicial)\n",
    "resultado.reverse()\n",
    "print(resultado)"
   ]
  }
 ],
 "metadata": {
  "kernelspec": {
   "display_name": "Python 3 (ipykernel)",
   "language": "python",
   "name": "python3"
  },
  "language_info": {
   "codemirror_mode": {
    "name": "ipython",
    "version": 3
   },
   "file_extension": ".py",
   "mimetype": "text/x-python",
   "name": "python",
   "nbconvert_exporter": "python",
   "pygments_lexer": "ipython3",
   "version": "3.10.12"
  }
 },
 "nbformat": 4,
 "nbformat_minor": 5
}
