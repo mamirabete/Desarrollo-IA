{
 "cells": [
  {
   "cell_type": "code",
   "execution_count": 3,
   "id": "d07d8b63-677e-45b0-964d-daa0d2463a25",
   "metadata": {},
   "outputs": [],
   "source": [
    "# Vuelos con búsqueda con profundidad iterativa\n",
    "from arbol import Nodo\n",
    "\n",
    "def DFS_prof_iter(nodo, solucion):\n",
    "  for limite in range(0,100):\n",
    "    visitados=[]\n",
    "    sol = buscar_solucion_DFS_Rec(nodo, solucion, visitados, limite)\n",
    "    if sol!=None:\n",
    "      return sol\n",
    "\n",
    "def buscar_solucion_DFS_Rec(nodo, solucion, visitados, limite):\n",
    "  if limite > 0:\n",
    "    visitados.append(nodo)\n",
    "    if nodo.get_datos() == solucion:\n",
    "      return nodo\n",
    "    else:\n",
    "      # expandir nodos hijo (ciudades con conexión)\n",
    "      dato_nodo = nodo.get_datos()\n",
    "      lista_hijos=[]\n",
    "      for un_hijo in conexiones[dato_nodo]:\n",
    "        hijo=Nodo(un_hijo)\n",
    "        if not hijo.en_lista(visitados):\n",
    "          lista_hijos.append(hijo)\n",
    "\n",
    "      nodo.set_hijos(lista_hijos)\n",
    "\n",
    "      for nodo_hijo in nodo.get_hijos():\n",
    "        if not nodo_hijo.get_datos() in visitados:\n",
    "          # llamada recursiva\n",
    "          sol = buscar_solucion_DFS_Rec(nodo_hijo, solucion, \\\n",
    "          visitados, limite-1)\n",
    "          if sol != None:\n",
    "            return sol\n",
    "\n",
    "    return None"
   ]
  },
  {
   "cell_type": "code",
   "execution_count": 4,
   "id": "91c70428-534e-4963-a33b-b953848f2fdd",
   "metadata": {},
   "outputs": [],
   "source": [
    "conexiones = {'Malaga':{'Salamanca', 'Madrid', 'Barcelona'},\n",
    "              'Sevilla':{'Santiago', 'Madrid'},\n",
    "              'Granada':{'Valencia'},\n",
    "              'Valencia':{'Barcelona'},\n",
    "              'Madrid':{'Salamanca', 'Sevilla', 'Malaga', 'Barcelona','Santander'},\n",
    "              'Salamanca':{'Malaga', 'Madrid'},\n",
    "              'Santiago':{'Sevilla', 'Santander', 'Barcelona'},\n",
    "              'Santander':{'Santiago', 'Madrid'},\n",
    "              'Zaragoza':{'Barcelona'},\n",
    "              'Barcelona':{'Zaragoza', 'Santiago', 'Madrid', 'Malaga','Valencia'}\n",
    "             }\n",
    "\n",
    "estado_inicial='Malaga'\n",
    "solucion='Santiago'\n",
    "nodo_inicial = Nodo(estado_inicial)\n",
    "nodo = DFS_prof_iter(nodo_inicial, solucion)"
   ]
  },
  {
   "cell_type": "code",
   "execution_count": 5,
   "id": "a6ae8a78-544f-4b32-9d13-10f9aff5b538",
   "metadata": {},
   "outputs": [
    {
     "name": "stdout",
     "output_type": "stream",
     "text": [
      "['Malaga', 'Barcelona', 'Santiago']\n"
     ]
    }
   ],
   "source": [
    "# mostrar resultado\n",
    "if nodo != None:\n",
    "  resultado=[]\n",
    "  while nodo.get_padre() != None:\n",
    "    resultado.append(nodo.get_datos())\n",
    "    nodo = nodo.get_padre()\n",
    "  resultado.append(estado_inicial)\n",
    "  resultado.reverse()\n",
    "  print(resultado)\n",
    "else:\n",
    "  print(\"solución no encontrada\")"
   ]
  }
 ],
 "metadata": {
  "kernelspec": {
   "display_name": "Python 3 (ipykernel)",
   "language": "python",
   "name": "python3"
  },
  "language_info": {
   "codemirror_mode": {
    "name": "ipython",
    "version": 3
   },
   "file_extension": ".py",
   "mimetype": "text/x-python",
   "name": "python",
   "nbconvert_exporter": "python",
   "pygments_lexer": "ipython3",
   "version": "3.10.12"
  }
 },
 "nbformat": 4,
 "nbformat_minor": 5
}
