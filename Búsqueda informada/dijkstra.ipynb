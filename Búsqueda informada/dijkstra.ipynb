{
 "cells": [
  {
   "cell_type": "code",
   "execution_count": 1,
   "id": "32f6f9c7-c2f3-4547-b2c1-dde815e7a9a7",
   "metadata": {},
   "outputs": [],
   "source": [
    "# Dijkstra\n",
    "import sys\n",
    "\n",
    "def dijkstra(grafo, nodo_inicial):\n",
    "    etiquetas = {}\n",
    "    visitados = []\n",
    "    pendientes = [nodo_inicial]\n",
    "    nodo_actual = nodo_inicial\n",
    "    \n",
    "    # nodo inicial\n",
    "    etiquetas[nodo_actual] = [0,'']\n",
    "    # seleccionar el siguiente nodo de menor peso acumulado\n",
    "    while len(pendientes) > 0:\n",
    "        nodo_actual = nodo_menor_peso(etiquetas, visitados)\n",
    "        visitados.append(nodo_actual)\n",
    "        # obtener nodos adyacentes\n",
    "        for adyacente, peso in grafo[nodo_actual].iteritems():\n",
    "            if adyacente not in pendientes and adyacente not in visitados:\n",
    "                pendientes.append(adyacente)\n",
    "            nuevo_peso = etiquetas[nodo_actual][0] + grafo[nodo_actual][adyacente]\n",
    "            # etiquetar\n",
    "            if adyacente not in visitados:\n",
    "                if adyacente not in etiquetas:\n",
    "                    etiquetas[adyacente] = [nuevo_peso, nodo_actual]\n",
    "                else:\n",
    "                    if etiquetas[adyacente][0] > nuevo_peso:\n",
    "                        etiquetas[adyacente] = [nuevo_peso, nodo_actual]\n",
    "            del pendientes[pendientes.index(nodo_actual)]\n",
    "        return etiquetas\n",
    "\n",
    "def nodo_menor_peso(etiquetas, visitados):\n",
    "    menor = sys.maxint\n",
    "    for nodo, etiqueta in etiquetas.iteritems():\n",
    "        if etiqueta[0] < menor and nodo not in visitados:\n",
    "            menor = etiqueta[0]\n",
    "            nodo_menor = nodo\n",
    "    return nodo_menor"
   ]
  },
  {
   "cell_type": "code",
   "execution_count": 2,
   "id": "b4981085-1691-4b24-95ca-59a4ec9ea273",
   "metadata": {},
   "outputs": [
    {
     "ename": "AttributeError",
     "evalue": "module 'sys' has no attribute 'maxint'",
     "output_type": "error",
     "traceback": [
      "\u001b[0;31m---------------------------------------------------------------------------\u001b[0m",
      "\u001b[0;31mAttributeError\u001b[0m                            Traceback (most recent call last)",
      "\u001b[0;32m/tmp/ipykernel_213090/2697110445.py\u001b[0m in \u001b[0;36m<module>\u001b[0;34m\u001b[0m\n\u001b[1;32m      7\u001b[0m          \u001b[0;34m'7'\u001b[0m\u001b[0;34m:\u001b[0m \u001b[0;34m{\u001b[0m\u001b[0;34m'5'\u001b[0m\u001b[0;34m:\u001b[0m\u001b[0;36m2\u001b[0m\u001b[0;34m,\u001b[0m \u001b[0;34m'6'\u001b[0m\u001b[0;34m:\u001b[0m\u001b[0;36m3\u001b[0m\u001b[0;34m}\u001b[0m\u001b[0;34m\u001b[0m\u001b[0;34m\u001b[0m\u001b[0m\n\u001b[1;32m      8\u001b[0m         }\n\u001b[0;32m----> 9\u001b[0;31m \u001b[0metiquetas\u001b[0m \u001b[0;34m=\u001b[0m \u001b[0mdijkstra\u001b[0m\u001b[0;34m(\u001b[0m\u001b[0mgrafo\u001b[0m\u001b[0;34m,\u001b[0m \u001b[0;34m'1'\u001b[0m\u001b[0;34m)\u001b[0m\u001b[0;34m\u001b[0m\u001b[0;34m\u001b[0m\u001b[0m\n\u001b[0m\u001b[1;32m     10\u001b[0m \u001b[0mprint\u001b[0m\u001b[0;34m(\u001b[0m\u001b[0metiquetas\u001b[0m\u001b[0;34m)\u001b[0m\u001b[0;34m\u001b[0m\u001b[0;34m\u001b[0m\u001b[0m\n",
      "\u001b[0;32m/tmp/ipykernel_213090/1447349627.py\u001b[0m in \u001b[0;36mdijkstra\u001b[0;34m(grafo, nodo_inicial)\u001b[0m\n\u001b[1;32m     12\u001b[0m     \u001b[0;31m# seleccionar el siguiente nodo de menor peso acumulado\u001b[0m\u001b[0;34m\u001b[0m\u001b[0;34m\u001b[0m\u001b[0m\n\u001b[1;32m     13\u001b[0m     \u001b[0;32mwhile\u001b[0m \u001b[0mlen\u001b[0m\u001b[0;34m(\u001b[0m\u001b[0mpendientes\u001b[0m\u001b[0;34m)\u001b[0m \u001b[0;34m>\u001b[0m \u001b[0;36m0\u001b[0m\u001b[0;34m:\u001b[0m\u001b[0;34m\u001b[0m\u001b[0;34m\u001b[0m\u001b[0m\n\u001b[0;32m---> 14\u001b[0;31m         \u001b[0mnodo_actual\u001b[0m \u001b[0;34m=\u001b[0m \u001b[0mnodo_menor_peso\u001b[0m\u001b[0;34m(\u001b[0m\u001b[0metiquetas\u001b[0m\u001b[0;34m,\u001b[0m \u001b[0mvisitados\u001b[0m\u001b[0;34m)\u001b[0m\u001b[0;34m\u001b[0m\u001b[0;34m\u001b[0m\u001b[0m\n\u001b[0m\u001b[1;32m     15\u001b[0m         \u001b[0mvisitados\u001b[0m\u001b[0;34m.\u001b[0m\u001b[0mappend\u001b[0m\u001b[0;34m(\u001b[0m\u001b[0mnodo_actual\u001b[0m\u001b[0;34m)\u001b[0m\u001b[0;34m\u001b[0m\u001b[0;34m\u001b[0m\u001b[0m\n\u001b[1;32m     16\u001b[0m         \u001b[0;31m# obtener nodos adyacentes\u001b[0m\u001b[0;34m\u001b[0m\u001b[0;34m\u001b[0m\u001b[0m\n",
      "\u001b[0;32m/tmp/ipykernel_213090/1447349627.py\u001b[0m in \u001b[0;36mnodo_menor_peso\u001b[0;34m(etiquetas, visitados)\u001b[0m\n\u001b[1;32m     30\u001b[0m \u001b[0;34m\u001b[0m\u001b[0m\n\u001b[1;32m     31\u001b[0m \u001b[0;32mdef\u001b[0m \u001b[0mnodo_menor_peso\u001b[0m\u001b[0;34m(\u001b[0m\u001b[0metiquetas\u001b[0m\u001b[0;34m,\u001b[0m \u001b[0mvisitados\u001b[0m\u001b[0;34m)\u001b[0m\u001b[0;34m:\u001b[0m\u001b[0;34m\u001b[0m\u001b[0;34m\u001b[0m\u001b[0m\n\u001b[0;32m---> 32\u001b[0;31m     \u001b[0mmenor\u001b[0m \u001b[0;34m=\u001b[0m \u001b[0msys\u001b[0m\u001b[0;34m.\u001b[0m\u001b[0mmaxint\u001b[0m\u001b[0;34m\u001b[0m\u001b[0;34m\u001b[0m\u001b[0m\n\u001b[0m\u001b[1;32m     33\u001b[0m     \u001b[0;32mfor\u001b[0m \u001b[0mnodo\u001b[0m\u001b[0;34m,\u001b[0m \u001b[0metiqueta\u001b[0m \u001b[0;32min\u001b[0m \u001b[0metiquetas\u001b[0m\u001b[0;34m.\u001b[0m\u001b[0miteritems\u001b[0m\u001b[0;34m(\u001b[0m\u001b[0;34m)\u001b[0m\u001b[0;34m:\u001b[0m\u001b[0;34m\u001b[0m\u001b[0;34m\u001b[0m\u001b[0m\n\u001b[1;32m     34\u001b[0m         \u001b[0;32mif\u001b[0m \u001b[0metiqueta\u001b[0m\u001b[0;34m[\u001b[0m\u001b[0;36m0\u001b[0m\u001b[0;34m]\u001b[0m \u001b[0;34m<\u001b[0m \u001b[0mmenor\u001b[0m \u001b[0;32mand\u001b[0m \u001b[0mnodo\u001b[0m \u001b[0;32mnot\u001b[0m \u001b[0;32min\u001b[0m \u001b[0mvisitados\u001b[0m\u001b[0;34m:\u001b[0m\u001b[0;34m\u001b[0m\u001b[0;34m\u001b[0m\u001b[0m\n",
      "\u001b[0;31mAttributeError\u001b[0m: module 'sys' has no attribute 'maxint'"
     ]
    }
   ],
   "source": [
    "grafo = {'1': {'3':6, '2':3},\n",
    "         '2': {'4':1, '1':3, '3':2},\n",
    "         '3': {'1':6, '2':2, '4':4, '5':2},\n",
    "         '4': {'2':1, '3':4, '5':6},\n",
    "         '5': {'3':2, '4':6, '6':2, '7':2},\n",
    "         '6': {'5':2, '7':3},\n",
    "         '7': {'5':2, '6':3}\n",
    "        }\n",
    "etiquetas = dijkstra(grafo, '1')\n",
    "print(etiquetas)"
   ]
  }
 ],
 "metadata": {
  "kernelspec": {
   "display_name": "Python 3 (ipykernel)",
   "language": "python",
   "name": "python3"
  },
  "language_info": {
   "codemirror_mode": {
    "name": "ipython",
    "version": 3
   },
   "file_extension": ".py",
   "mimetype": "text/x-python",
   "name": "python",
   "nbconvert_exporter": "python",
   "pygments_lexer": "ipython3",
   "version": "3.10.12"
  }
 },
 "nbformat": 4,
 "nbformat_minor": 5
}
