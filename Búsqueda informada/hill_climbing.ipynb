{
 "cells": [
  {
   "cell_type": "code",
   "execution_count": 1,
   "id": "3735b5b6-e4a2-4245-a823-04a9ae12f009",
   "metadata": {},
   "outputs": [],
   "source": [
    "# TSP con hill climbing\n",
    "import math\n",
    "import random\n",
    "\n",
    "def distancia(coord1, coord2):\n",
    "    lat1=coord1[0]\n",
    "    lon1=coord1[1]\n",
    "    lat2=coord2[0]\n",
    "    lon2=coord2[1]\n",
    "    return math.sqrt((lat1-lat2)**2+(lon1-lon2)**2)\n",
    "\n",
    "# calcula la distancia cubierta por una ruta\n",
    "def evalua_ruta(ruta):\n",
    "    total=0\n",
    "    for i in range(0,len(ruta)-1):\n",
    "        ciudad1=ruta[i]\n",
    "        ciudad2=ruta[i+1]\n",
    "        total=total+distancia(coord[ciudad1], coord[ciudad2])\n",
    "    ciudad1=ruta[i+1]\n",
    "    ciudad2=ruta[0]\n",
    "    total=total+distancia(coord[ciudad1], coord[ciudad2])\n",
    "    return total\n",
    "\n",
    "def hill_climbing():\n",
    "    # crear ruta inicial aleatoria\n",
    "    ruta=[]\n",
    "    for ciudad in coord:\n",
    "        ruta.append(ciudad)\n",
    "    random.shuffle(ruta)\n",
    "    \n",
    "    mejora=True\n",
    "    while mejora:\n",
    "        mejora=False\n",
    "        dist_actual=evalua_ruta(ruta)\n",
    "        # evaluar vecinos\n",
    "        for i in range(0,len(ruta)):\n",
    "            if mejora:\n",
    "                break\n",
    "            for j in range(0,len(ruta)):\n",
    "                if i!=j:\n",
    "                    ruta_tmp=ruta[:]\n",
    "                    ciudad_tmp=ruta_tmp[i]\n",
    "                    ruta_tmp[i]=ruta_tmp[j]\n",
    "                    ruta_tmp[j]=ciudad_tmp\n",
    "                    dist=evalua_ruta(ruta_tmp)\n",
    "                    if dist<dist_actual:\n",
    "                        # encontrado vecino que mejora el resultado\n",
    "                        mejora=True\n",
    "                        ruta=ruta_tmp[:]\n",
    "                        break\n",
    "    return ruta"
   ]
  },
  {
   "cell_type": "code",
   "execution_count": 2,
   "id": "e3e42b68-a223-4fa2-8041-944c6709a151",
   "metadata": {},
   "outputs": [],
   "source": [
    "coord = {'Malaga':(36.43, -4.24),\n",
    "         'Sevilla':(37.23, -5.59),\n",
    "         'Granada':(37.11, -3.35),\n",
    "         'Valencia':(39.28, -0.22),\n",
    "         'Madrid':(40.24, -3.41),\n",
    "         'Salamanca':(40.57, -5.40),\n",
    "         'Santiago':(42.52, -8.33),\n",
    "         'Santander':(43.28, -3.48),\n",
    "         'Zaragoza':(41.39, -0.52),\n",
    "         'Barcelona':(41.23, +2.11)\n",
    "        }"
   ]
  },
  {
   "cell_type": "code",
   "execution_count": 10,
   "id": "357c555a-c1cf-4714-99fa-a5f14d90eecf",
   "metadata": {},
   "outputs": [
    {
     "name": "stdout",
     "output_type": "stream",
     "text": [
      "['Zaragoza', 'Barcelona', 'Valencia', 'Granada', 'Malaga', 'Sevilla', 'Salamanca', 'Santiago', 'Santander', 'Madrid']\n",
      "Distancia total: 30.096479159694283\n"
     ]
    }
   ],
   "source": [
    "ruta = hill_climbing()\n",
    "# Imprime el resultado\n",
    "print(ruta)\n",
    "print(\"Distancia total: \" + str(evalua_ruta(ruta)))"
   ]
  }
 ],
 "metadata": {
  "kernelspec": {
   "display_name": "Python 3 (ipykernel)",
   "language": "python",
   "name": "python3"
  },
  "language_info": {
   "codemirror_mode": {
    "name": "ipython",
    "version": 3
   },
   "file_extension": ".py",
   "mimetype": "text/x-python",
   "name": "python",
   "nbconvert_exporter": "python",
   "pygments_lexer": "ipython3",
   "version": "3.10.12"
  }
 },
 "nbformat": 4,
 "nbformat_minor": 5
}
