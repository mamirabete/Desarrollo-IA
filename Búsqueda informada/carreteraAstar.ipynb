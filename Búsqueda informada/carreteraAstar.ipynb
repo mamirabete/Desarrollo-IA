{
 "cells": [
  {
   "cell_type": "code",
   "execution_count": 1,
   "id": "e1abc227-71d4-4449-8cf4-b8684b0a7171",
   "metadata": {},
   "outputs": [],
   "source": [
    "# Viaje por carretera con búsqueda A*\n",
    "from arbol import Nodo\n",
    "from math import sin, cos, acos"
   ]
  },
  {
   "cell_type": "code",
   "execution_count": 4,
   "id": "c31db777-7431-4034-b84e-9e7cd43651e8",
   "metadata": {},
   "outputs": [],
   "source": [
    "def compara(x, y):\n",
    "    # g(n)+h(n) para ciudad x\n",
    "    lat1=coord[x.get_datos()][0]\n",
    "    lon1=coord[x.get_datos()][1]\n",
    "    lat2=coord[solucion][0]\n",
    "    lon2=coord[solucion][1]\n",
    "    d=int(geodist(lat1, lon1, lat2, lon2))\n",
    "    c1=x.get_costo()+d\n",
    "    # g(n)+h(n) para ciudad y\n",
    "    lat1=coord[y.get_datos()][0]\n",
    "    lon1=coord[y.get_datos()][1]\n",
    "    lat2=coord[solucion][0]\n",
    "    lon2=coord[solucion][1]\n",
    "    d=int(geodist(lat1, lon1, lat2, lon2))\n",
    "    c2=y.get_costo()+d\n",
    "    return c1-c2\n",
    "\n",
    "def geodist(lat1, lon1, lat2, lon2):\n",
    "    grad_rad = 0.01745329\n",
    "    rad_grad = 57.29577951\n",
    "    longitud = lon1-lon2\n",
    "    val = (sin(lat1*grad_rad)*sin(lat2*grad_rad)) + (cos(lat1*grad_rad)*cos(lat2*grad_rad)*cos(longitud*grad_rad))\n",
    "    return (acos(val)*rad_grad)*111.32\n",
    "\n",
    "def buscar_solucion_UCS(conexiones, estado_inicial, solucion):\n",
    "    solucionado=False\n",
    "    nodos_visitados=[]\n",
    "    nodos_frontera=[]\n",
    "    nodo_inicial = Nodo(estado_inicial)\n",
    "    nodo_inicial.set_costo(0)\n",
    "    nodos_frontera.append(nodo_inicial)\n",
    "    while (not solucionado) and len(nodos_frontera)!=0:\n",
    "        # ordenar la lista de nodos frontera\n",
    "        nodos_frontera = sorted(nodos_frontera, cmp=compara)\n",
    "        nodo=nodos_frontera[0]\n",
    "        # extraer nodo y añadirlo a visitados\n",
    "        nodos_visitados.append(nodos_frontera.pop(0))\n",
    "        if nodo.get_datos() == solucion:\n",
    "            # solución encontrada\n",
    "            solucionado=True\n",
    "            return nodo\n",
    "        else:\n",
    "            # expandir nodos hijo (ciudades con conexión)\n",
    "            dato_nodo = nodo.get_datos()\n",
    "            lista_hijos=[]\n",
    "            for un_hijo in conexiones[dato_nodo]:\n",
    "                hijo=Nodo(un_hijo)\n",
    "                # cálculo g(n): costo acumulado\n",
    "                costo = conexiones[dato_nodo][un_hijo]\n",
    "                hijo.set_costo(nodo.get_costo() + costo)\n",
    "                lista_hijos.append(hijo)\n",
    "                if not hijo.en_lista(nodos_visitados):\n",
    "                    # si está en la lista lo sustituimos con\n",
    "                    # el nuevo valor de costo si es menor\n",
    "                    if hijo.en_lista(nodos_frontera):\n",
    "                        for n in nodos_frontera:\n",
    "                            if n.igual(hijo) and n.get_costo()>hijo.get_costo():\n",
    "                                nodos_frontera.remove(n)\n",
    "                                nodos_frontera.append(hijo)\n",
    "                    else :\n",
    "                        nodos_frontera.append(hijo)\n",
    "                    \n",
    "            nodo.set_hijos(lista_hijos)"
   ]
  },
  {
   "cell_type": "code",
   "execution_count": 5,
   "id": "1b6ddc41-4591-408a-aeb2-ebb30e4d816e",
   "metadata": {},
   "outputs": [
    {
     "ename": "TypeError",
     "evalue": "'cmp' is an invalid keyword argument for sort()",
     "output_type": "error",
     "traceback": [
      "\u001b[0;31m---------------------------------------------------------------------------\u001b[0m",
      "\u001b[0;31mTypeError\u001b[0m                                 Traceback (most recent call last)",
      "\u001b[0;32m/tmp/ipykernel_212874/1330287189.py\u001b[0m in \u001b[0;36m<module>\u001b[0;34m\u001b[0m\n\u001b[1;32m     27\u001b[0m \u001b[0mestado_inicial\u001b[0m\u001b[0;34m=\u001b[0m\u001b[0;34m'Malaga'\u001b[0m\u001b[0;34m\u001b[0m\u001b[0;34m\u001b[0m\u001b[0m\n\u001b[1;32m     28\u001b[0m \u001b[0msolucion\u001b[0m\u001b[0;34m=\u001b[0m\u001b[0;34m'Santiago'\u001b[0m\u001b[0;34m\u001b[0m\u001b[0;34m\u001b[0m\u001b[0m\n\u001b[0;32m---> 29\u001b[0;31m \u001b[0mnodo_solucion\u001b[0m \u001b[0;34m=\u001b[0m \u001b[0mbuscar_solucion_UCS\u001b[0m\u001b[0;34m(\u001b[0m\u001b[0mconexiones\u001b[0m\u001b[0;34m,\u001b[0m \u001b[0mestado_inicial\u001b[0m\u001b[0;34m,\u001b[0m \u001b[0msolucion\u001b[0m\u001b[0;34m)\u001b[0m\u001b[0;34m\u001b[0m\u001b[0;34m\u001b[0m\u001b[0m\n\u001b[0m",
      "\u001b[0;32m/tmp/ipykernel_212874/1398248938.py\u001b[0m in \u001b[0;36mbuscar_solucion_UCS\u001b[0;34m(conexiones, estado_inicial, solucion)\u001b[0m\n\u001b[1;32m     32\u001b[0m     \u001b[0;32mwhile\u001b[0m \u001b[0;34m(\u001b[0m\u001b[0;32mnot\u001b[0m \u001b[0msolucionado\u001b[0m\u001b[0;34m)\u001b[0m \u001b[0;32mand\u001b[0m \u001b[0mlen\u001b[0m\u001b[0;34m(\u001b[0m\u001b[0mnodos_frontera\u001b[0m\u001b[0;34m)\u001b[0m\u001b[0;34m!=\u001b[0m\u001b[0;36m0\u001b[0m\u001b[0;34m:\u001b[0m\u001b[0;34m\u001b[0m\u001b[0;34m\u001b[0m\u001b[0m\n\u001b[1;32m     33\u001b[0m         \u001b[0;31m# ordenar la lista de nodos frontera\u001b[0m\u001b[0;34m\u001b[0m\u001b[0;34m\u001b[0m\u001b[0m\n\u001b[0;32m---> 34\u001b[0;31m         \u001b[0mnodos_frontera\u001b[0m \u001b[0;34m=\u001b[0m \u001b[0msorted\u001b[0m\u001b[0;34m(\u001b[0m\u001b[0mnodos_frontera\u001b[0m\u001b[0;34m,\u001b[0m \u001b[0mcmp\u001b[0m\u001b[0;34m=\u001b[0m\u001b[0mcompara\u001b[0m\u001b[0;34m)\u001b[0m\u001b[0;34m\u001b[0m\u001b[0;34m\u001b[0m\u001b[0m\n\u001b[0m\u001b[1;32m     35\u001b[0m         \u001b[0mnodo\u001b[0m\u001b[0;34m=\u001b[0m\u001b[0mnodos_frontera\u001b[0m\u001b[0;34m[\u001b[0m\u001b[0;36m0\u001b[0m\u001b[0;34m]\u001b[0m\u001b[0;34m\u001b[0m\u001b[0;34m\u001b[0m\u001b[0m\n\u001b[1;32m     36\u001b[0m         \u001b[0;31m# extraer nodo y añadirlo a visitados\u001b[0m\u001b[0;34m\u001b[0m\u001b[0;34m\u001b[0m\u001b[0m\n",
      "\u001b[0;31mTypeError\u001b[0m: 'cmp' is an invalid keyword argument for sort()"
     ]
    }
   ],
   "source": [
    "conexiones = {'Malaga':{'Granada':125, 'Madrid':513},\n",
    "              'Sevilla':{'Madrid':514},\n",
    "              'Granada':{'Malaga':125, 'Madrid':423, 'Valencia':491},\n",
    "              'Valencia':{'Granada':491, 'Madrid':356, 'Zaragoza':309,'Barcelona':346},\n",
    "              'Madrid':{'Salamanca':203, 'Sevilla':514, 'Malaga':513, 'Granada':423,\n",
    "                        'Barcelona':603, 'Santander':437, 'Valencia':356, 'Zaragoza':313, \n",
    "                        'Santander':437, 'Santiago':599},\n",
    "              'Salamanca':{'Santiago':390, 'Madrid':203},\n",
    "              'Santiago':{'Salamanca':390, 'Madrid':599},\n",
    "              'Santander':{'Madrid':437, 'Zaragoza':394},\n",
    "              'Zaragoza':{'Barcelona':296, 'Valencia':309, 'Madrid':313},\n",
    "              'Barcelona':{'Zaragoza':296, 'Madrid':603, 'Valencia':346}\n",
    "             }\n",
    "\n",
    "coord = {'Malaga':(36.43, -4.24),\n",
    "         'Sevilla':(37.23, -5.59),\n",
    "         'Granada':(37.11, -3.35),\n",
    "         'Valencia':(39.28, -0.22),\n",
    "         'Madrid':(40.24, -3.41),\n",
    "         'Salamanca':(40.57, -5.40),\n",
    "         'Santiago':(42.52, -8.33),\n",
    "         'Santander':(43.28, -3.48),\n",
    "         'Zaragoza':(41.39, -0.52),\n",
    "         'Barcelona':(41.23, +2.11)\n",
    "        }\n",
    "\n",
    "estado_inicial='Malaga'\n",
    "solucion='Santiago'\n",
    "nodo_solucion = buscar_solucion_UCS(conexiones, estado_inicial, solucion)"
   ]
  },
  {
   "cell_type": "code",
   "execution_count": 6,
   "id": "4483c229-ddbf-4a2f-952b-baf0e4b0508a",
   "metadata": {},
   "outputs": [
    {
     "ename": "NameError",
     "evalue": "name 'nodo_solucion' is not defined",
     "output_type": "error",
     "traceback": [
      "\u001b[0;31m---------------------------------------------------------------------------\u001b[0m",
      "\u001b[0;31mNameError\u001b[0m                                 Traceback (most recent call last)",
      "\u001b[0;32m/tmp/ipykernel_212874/3009933540.py\u001b[0m in \u001b[0;36m<module>\u001b[0;34m\u001b[0m\n\u001b[1;32m      1\u001b[0m \u001b[0;31m# mostrar resultado\u001b[0m\u001b[0;34m\u001b[0m\u001b[0;34m\u001b[0m\u001b[0m\n\u001b[1;32m      2\u001b[0m \u001b[0mresultado\u001b[0m\u001b[0;34m=\u001b[0m\u001b[0;34m[\u001b[0m\u001b[0;34m]\u001b[0m\u001b[0;34m\u001b[0m\u001b[0;34m\u001b[0m\u001b[0m\n\u001b[0;32m----> 3\u001b[0;31m \u001b[0mnodo\u001b[0m\u001b[0;34m=\u001b[0m\u001b[0mnodo_solucion\u001b[0m\u001b[0;34m\u001b[0m\u001b[0;34m\u001b[0m\u001b[0m\n\u001b[0m\u001b[1;32m      4\u001b[0m \u001b[0;32mwhile\u001b[0m \u001b[0mnodo\u001b[0m\u001b[0;34m.\u001b[0m\u001b[0mget_padre\u001b[0m\u001b[0;34m(\u001b[0m\u001b[0;34m)\u001b[0m \u001b[0;34m!=\u001b[0m \u001b[0;32mNone\u001b[0m\u001b[0;34m:\u001b[0m\u001b[0;34m\u001b[0m\u001b[0;34m\u001b[0m\u001b[0m\n\u001b[1;32m      5\u001b[0m     \u001b[0mresultado\u001b[0m\u001b[0;34m.\u001b[0m\u001b[0mappend\u001b[0m\u001b[0;34m(\u001b[0m\u001b[0mnodo\u001b[0m\u001b[0;34m.\u001b[0m\u001b[0mget_datos\u001b[0m\u001b[0;34m(\u001b[0m\u001b[0;34m)\u001b[0m\u001b[0;34m)\u001b[0m\u001b[0;34m\u001b[0m\u001b[0;34m\u001b[0m\u001b[0m\n",
      "\u001b[0;31mNameError\u001b[0m: name 'nodo_solucion' is not defined"
     ]
    }
   ],
   "source": [
    "# mostrar resultado\n",
    "resultado=[]\n",
    "nodo=nodo_solucion\n",
    "while nodo.get_padre() != None:\n",
    "    resultado.append(nodo.get_datos())\n",
    "    nodo = nodo.get_padre()\n",
    "resultado.append(estado_inicial)\n",
    "resultado.reverse()\n",
    "print(resultado)\n",
    "print('Coste: ' + str(nodo_solucion.get_costo()))"
   ]
  }
 ],
 "metadata": {
  "kernelspec": {
   "display_name": "Python 3 (ipykernel)",
   "language": "python",
   "name": "python3"
  },
  "language_info": {
   "codemirror_mode": {
    "name": "ipython",
    "version": 3
   },
   "file_extension": ".py",
   "mimetype": "text/x-python",
   "name": "python",
   "nbconvert_exporter": "python",
   "pygments_lexer": "ipython3",
   "version": "3.10.12"
  }
 },
 "nbformat": 4,
 "nbformat_minor": 5
}
