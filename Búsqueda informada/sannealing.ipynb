{
 "cells": [
  {
   "cell_type": "code",
   "execution_count": 1,
   "id": "ddfaa664-1c6a-4dc2-8d20-ef3bd554413e",
   "metadata": {},
   "outputs": [],
   "source": [
    "# TSP con templado simulado\n",
    "import math\n",
    "import random\n",
    "\n",
    "def distancia(coord1, coord2):\n",
    "    lat1=coord1[0]\n",
    "    lon1=coord1[1]\n",
    "    lat2=coord2[0]\n",
    "    lon2=coord2[1]\n",
    "    return math.sqrt((lat1-lat2)**2+(lon1-lon2)**2)\n",
    "\n",
    "# calcula la distancia cubierta por una ruta\n",
    "def evalua_ruta(ruta):\n",
    "    total=0\n",
    "    for i in range(0,len(ruta)-1):\n",
    "        ciudad1=ruta[i]\n",
    "        ciudad2=ruta[i+1]\n",
    "        total=total+distancia(coord[ciudad1], coord[ciudad2])\n",
    "    ciudad1=ruta[i+1]\n",
    "    ciudad2=ruta[0]\n",
    "    total=total+distancia(coord[ciudad1], coord[ciudad2])\n",
    "    return total\n",
    "\n",
    "def simulated_annealing(ruta):\n",
    "    T=20\n",
    "    T_MIN=0\n",
    "    v_enfriamiento=100\n",
    "    while T>T_MIN:\n",
    "        dist_actual=evalua_ruta(ruta)\n",
    "        for i in range(1, v_enfriamiento):\n",
    "            # intercambiamos dos ciudades aleatoriamente\n",
    "            i=random.randint(0, len(ruta)-1)\n",
    "            j=random.randint(0, len(ruta)-1)\n",
    "            ruta_tmp=ruta[:]\n",
    "            ciudad_tmp=ruta_tmp[i]\n",
    "            ruta_tmp[i]=ruta_tmp[j]\n",
    "            ruta_tmp[j]=ciudad_tmp\n",
    "            dist=evalua_ruta(ruta_tmp)\n",
    "            delta=dist_actual-dist\n",
    "            if (dist<dist_actual):\n",
    "                ruta=ruta_tmp[:]\n",
    "                break\n",
    "            elif random.random() < math.exp(delta/T):\n",
    "                ruta=ruta_tmp[:]\n",
    "                break\n",
    "   \n",
    "        # enfriamos T linealmente\n",
    "        T=T-0.005\n",
    "    \n",
    "    return ruta"
   ]
  },
  {
   "cell_type": "code",
   "execution_count": 2,
   "id": "d9599b2a-33df-42a6-9209-b57555b949ff",
   "metadata": {},
   "outputs": [],
   "source": [
    "coord = {'Malaga':(36.43, -4.24),\n",
    "         'Sevilla':(37.23, -5.59),\n",
    "         'Granada':(37.11, -3.35),\n",
    "         'Valencia':(39.28, -0.22),\n",
    "         'Madrid':(40.24, -3.41),\n",
    "         'Salamanca':(40.57, -5.40),\n",
    "         'Santiago':(42.52, -8.33),\n",
    "         'Santander':(43.28, -3.48),\n",
    "         'Zaragoza':(41.39, -0.52),\n",
    "         'Barcelona':(41.23, +2.11)\n",
    "        }"
   ]
  },
  {
   "cell_type": "code",
   "execution_count": 3,
   "id": "6cfea0be-2bf7-4c1b-b109-02dacb583c54",
   "metadata": {},
   "outputs": [
    {
     "name": "stdout",
     "output_type": "stream",
     "text": [
      "['Madrid', 'Sevilla', 'Malaga', 'Granada', 'Valencia', 'Barcelona', 'Zaragoza', 'Santander', 'Santiago', 'Salamanca']\n",
      "Distancia total: 29.84550183409603\n"
     ]
    }
   ],
   "source": [
    "# crear ruta inicial aleatoria\n",
    "ruta=[]\n",
    "for ciudad in coord:\n",
    "    ruta.append(ciudad)\n",
    "random.shuffle(ruta)\n",
    "\n",
    "ruta = simulated_annealing(ruta)\n",
    "\n",
    "# Imprime el resultado\n",
    "print(ruta)\n",
    "print(\"Distancia total: \" + str(evalua_ruta(ruta)))"
   ]
  }
 ],
 "metadata": {
  "kernelspec": {
   "display_name": "Python 3 (ipykernel)",
   "language": "python",
   "name": "python3"
  },
  "language_info": {
   "codemirror_mode": {
    "name": "ipython",
    "version": 3
   },
   "file_extension": ".py",
   "mimetype": "text/x-python",
   "name": "python",
   "nbconvert_exporter": "python",
   "pygments_lexer": "ipython3",
   "version": "3.10.12"
  }
 },
 "nbformat": 4,
 "nbformat_minor": 5
}
