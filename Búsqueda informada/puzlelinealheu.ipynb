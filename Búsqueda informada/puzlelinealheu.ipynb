{
 "cells": [
  {
   "cell_type": "markdown",
   "id": "da3ded69-7b03-4870-b9e9-6e0c9c1d2fe4",
   "metadata": {},
   "source": [
    "# Problema del Puzzle Lineal con heurística\n",
    "\n",
    "La ejecución del programa nos ofrece una solución similar a la que encontramos con la búsqueda en amplitud, pero usando una búsqueda en profundidad y, por lo tanto, menos costosa en cuanto al uso de memoria:\n",
    "\n",
    "[[4, 2, 3, 1], [2, 4, 3, 1], [2, 3, 4, 1], [2, 3, 1, 4], [2, 1, 3, 4], [1, 2, 3, 4]]\n",
    "\n",
    "Para el ejemplo hemos utilizado una función llamada mejora() que indica si el nodo hijo mejora respecto al nodo padre en los términos de calidad que hemos definido más arriba. Es decir, es una función booleana que devuelve el valor verdadero si el nodo hijo tiene más piezas en el lugar correcto que el padre, o al menos las mismas."
   ]
  },
  {
   "cell_type": "code",
   "execution_count": null,
   "id": "b14eb176-70fe-48a2-8009-f07372f4c522",
   "metadata": {},
   "outputs": [],
   "source": [
    "from arbol import Nodo"
   ]
  },
  {
   "cell_type": "code",
   "execution_count": null,
   "id": "457a5d4e-fa16-46b0-aece-e94aa1c111ba",
   "metadata": {},
   "outputs": [],
   "source": [
    "def buscar_solucion_heuristica(nodo_inicial, solucion, visitados):\n",
    "    visitados.append(nodo_inicial.get_datos())\n",
    "    if nodo_inicial.get_datos() == solucion:\n",
    "        return nodo_inicial\n",
    "    else:\n",
    "        # expandir nodos sucesores (hijos)\n",
    "        dato_nodo = nodo_inicial.get_datos()\n",
    "        hijo=[dato_nodo[1], dato_nodo[0], dato_nodo[2], dato_nodo[3]]\n",
    "        hijo_izquierdo = Nodo(hijo)\n",
    "        hijo=[dato_nodo[0], dato_nodo[2], dato_nodo[1], dato_nodo[3]]\n",
    "        hijo_central = Nodo(hijo)\n",
    "        hijo=[dato_nodo[0], dato_nodo[1], dato_nodo[3], dato_nodo[2]]\n",
    "        hijo_derecho = Nodo(hijo)\n",
    "        nodo_inicial.set_hijos([hijo_izquierdo, hijo_central, hijo_derecho])\n",
    "        \n",
    "        for nodo_hijo in nodo_inicial.get_hijos():\n",
    "            if not nodo_hijo.get_datos() in visitados and mejora(nodo_inicial, nodo_hijo):\n",
    "                # llamada recursiva\n",
    "                sol = buscar_solucion_heuristica(nodo_hijo, solucion, visitados)\n",
    "                if sol != None:\n",
    "                    return sol\n",
    "        return None\n",
    "        \n",
    "def mejora(nodo_padre, nodo_hijo):\n",
    "    calidad_padre=0\n",
    "    calidad_hijo=0\n",
    "    dato_padre = nodo_padre.get_datos()\n",
    "    dato_hijo = nodo_hijo.get_datos()\n",
    "    for n in range(1,len(dato_padre)):\n",
    "        if (dato_padre[n]>dato_padre[n-1]):\n",
    "            calidad_padre = calidad_padre + 1;\n",
    "        if (dato_hijo[n]>dato_hijo[n-1]):\n",
    "            calidad_hijo = calidad_hijo + 1;\n",
    "    if calidad_hijo>=calidad_padre:\n",
    "        return True\n",
    "    else:\n",
    "        return False     "
   ]
  },
  {
   "cell_type": "code",
   "execution_count": null,
   "id": "5285f262-a27c-4de2-a9f3-b001a3994efe",
   "metadata": {},
   "outputs": [],
   "source": [
    "estado_inicial=[4,2,3,1]\n",
    "solucion=[1,2,3,4]\n",
    "nodo_solucion = None\n",
    "visitados=[]\n",
    "nodo_inicial = Nodo(estado_inicial)\n",
    "nodo = buscar_solucion_heuristica(nodo_inicial, solucion, visitados)"
   ]
  },
  {
   "cell_type": "code",
   "execution_count": null,
   "id": "824afddd-59f6-491f-8267-1f89a5056513",
   "metadata": {},
   "outputs": [],
   "source": [
    "# mostrar resultado\n",
    "resultado=[]\n",
    "while nodo.get_padre() != None:\n",
    "    resultado.append(nodo.get_datos())\n",
    "    nodo = nodo.get_padre()\n",
    "resultado.append(estado_inicial)\n",
    "resultado.reverse()\n",
    "print(resultado)"
   ]
  }
 ],
 "metadata": {
  "kernelspec": {
   "display_name": "Python 3 (ipykernel)",
   "language": "python",
   "name": "python3"
  },
  "language_info": {
   "codemirror_mode": {
    "name": "ipython",
    "version": 3
   },
   "file_extension": ".py",
   "mimetype": "text/x-python",
   "name": "python",
   "nbconvert_exporter": "python",
   "pygments_lexer": "ipython3",
   "version": "3.10.12"
  }
 },
 "nbformat": 4,
 "nbformat_minor": 5
}
