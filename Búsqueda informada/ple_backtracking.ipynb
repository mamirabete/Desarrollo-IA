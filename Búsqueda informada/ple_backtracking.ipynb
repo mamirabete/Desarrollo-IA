{
 "cells": [
  {
   "cell_type": "code",
   "execution_count": 1,
   "id": "c553abaf-df17-43cc-a653-1354dcec0b39",
   "metadata": {},
   "outputs": [],
   "source": [
    "# PLE con backtracking\n",
    "def backtracking(variables, rango_variables, optimo, profundidad):\n",
    "    min=rango_variables[profundidad][0]\n",
    "    max=rango_variables[profundidad][1]\n",
    "    for v in range(min, max):\n",
    "        variables[profundidad]=v\n",
    "        if profundidad < len(variables)-1:\n",
    "            # Es completable si no incumple ninguna restricción\n",
    "            if es_completable(variables):\n",
    "                optimo = backtracking(variables[:], rango_variables, optimo, profundidad+1)\n",
    "            else:\n",
    "                # estamos en una hoja. Comprobamos solución.\n",
    "                sol=evalua_solucion(variables)\n",
    "                if sol>evalua_solucion(optimo) and es_completable(variables):\n",
    "                    optimo = (variables[0], variables[1])\n",
    "    return optimo\n",
    "\n",
    "def evalua_solucion(variables):\n",
    "    x1=variables[0]\n",
    "    x2=variables[1]\n",
    "    val = (12-6)*x1+(8-4)*x2\n",
    "    return val\n",
    "\n",
    "def es_completable(variables):\n",
    "    x1=variables[0]\n",
    "    x2=variables[1]\n",
    "    val1=7*x1+4*x2\n",
    "    val2=6*x1+5*x2\n",
    "    if val1<=150 and val2<=160:\n",
    "        return True\n",
    "    else:\n",
    "        return False"
   ]
  },
  {
   "cell_type": "code",
   "execution_count": 5,
   "id": "bf70db04-d412-4676-a8fa-2825b94efae8",
   "metadata": {},
   "outputs": [
    {
     "name": "stdout",
     "output_type": "stream",
     "text": [
      "Mejor solución:\n",
      "0 Pantalones.\n",
      "0 Camisetas.\n",
      "Beneficio: 0\n"
     ]
    }
   ],
   "source": [
    "# valores de las variables x1 y x2\n",
    "variables=[0,0]\n",
    "# rangos de las variables x1 y x2\n",
    "rango_variables=[(0,51),(0,76)]\n",
    "# mejor solución encontrada\n",
    "optimo=(0,0)\n",
    "sol=backtracking(variables[:], rango_variables, optimo, 0)\n",
    "print(\"Mejor solución:\")\n",
    "print(str(sol[0])+\" Pantalones.\")\n",
    "print(str(sol[1])+\" Camisetas.\")\n",
    "print(\"Beneficio: \"+str(evalua_solucion(sol)))"
   ]
  }
 ],
 "metadata": {
  "kernelspec": {
   "display_name": "Python 3 (ipykernel)",
   "language": "python",
   "name": "python3"
  },
  "language_info": {
   "codemirror_mode": {
    "name": "ipython",
    "version": 3
   },
   "file_extension": ".py",
   "mimetype": "text/x-python",
   "name": "python",
   "nbconvert_exporter": "python",
   "pygments_lexer": "ipython3",
   "version": "3.10.12"
  }
 },
 "nbformat": 4,
 "nbformat_minor": 5
}
